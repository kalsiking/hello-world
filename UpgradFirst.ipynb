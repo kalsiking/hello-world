{
  "nbformat": 4,
  "nbformat_minor": 0,
  "metadata": {
    "colab": {
      "name": "UpgradFirst.ipynb",
      "provenance": [],
      "collapsed_sections": [],
      "toc_visible": true,
      "authorship_tag": "ABX9TyORQHr6pIUIOo66VI3jsSAr",
      "include_colab_link": true
    },
    "kernelspec": {
      "name": "python3",
      "display_name": "Python 3"
    }
  },
  "cells": [
    {
      "cell_type": "markdown",
      "metadata": {
        "id": "view-in-github",
        "colab_type": "text"
      },
      "source": [
        "<a href=\"https://colab.research.google.com/github/kalsiking/hello-world/blob/master/UpgradFirst.ipynb\" target=\"_parent\"><img src=\"https://colab.research.google.com/assets/colab-badge.svg\" alt=\"Open In Colab\"/></a>"
      ]
    },
    {
      "cell_type": "code",
      "metadata": {
        "id": "yKRb1BppnXov",
        "outputId": "66e307e5-511d-4e6a-c953-e0dd2d449594",
        "colab": {
          "base_uri": "https://localhost:8080/",
          "height": 34
        }
      },
      "source": [
        "print(\"Hello to the World of Python!\")"
      ],
      "execution_count": 6,
      "outputs": [
        {
          "output_type": "stream",
          "text": [
            "Hello to the World of Python!\n"
          ],
          "name": "stdout"
        }
      ]
    },
    {
      "cell_type": "markdown",
      "metadata": {
        "id": "vMT9L11PrfV7"
      },
      "source": [
        "# Big\n",
        "## Small\n",
        "### Smallest\n",
        "* ok\n",
        "* ok2\n"
      ]
    },
    {
      "cell_type": "markdown",
      "metadata": {
        "id": "EHQxEPzcr5sA"
      },
      "source": [
        "# New Section"
      ]
    }
  ]
}